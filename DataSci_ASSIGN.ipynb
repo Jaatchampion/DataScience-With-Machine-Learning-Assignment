{
  "nbformat": 4,
  "nbformat_minor": 0,
  "metadata": {
    "colab": {
      "provenance": []
    },
    "kernelspec": {
      "name": "python3",
      "display_name": "Python 3"
    },
    "language_info": {
      "name": "python"
    }
  },
  "cells": [
    {
      "cell_type": "markdown",
      "source": [
        "Question 1.3.\n",
        "name = [\"Mohan\", \"dash\", \"karam\", \"chandra\",\"gandhi\", \"Bapu\"]\n",
        "do the following operations in this list;\n",
        "\n",
        "\n",
        "a) add an element \"freedom_fighter\" in this list at the Oth index.\n",
        "\n",
        "\n",
        "b) find the output of the following, and explain how?\n",
        "\n",
        "c) add two more elements in the name [\"Netaji\", \"Bose\"] at the end of the list.\n",
        "\n",
        "d) what will be the value of temp:\n",
        "name = [\"Bapuji\", \"dash\", \"karam\", \"chandra\",\"gandi\", \"Mohan\"]\n",
        "temp=name[-1]\n",
        "name[-1]=name[0]\n",
        "name[0]=temp\n",
        "print(name)"
      ],
      "metadata": {
        "id": "98GfkJgfn2Q2"
      }
    },
    {
      "cell_type": "code",
      "source": [
        "name = [\"Mohan\", \"dash\", \"karam\", \"chandra\", \"gandhi\", \"Bapu\"]\n",
        "name.insert(0, \"freedom_fighter\")\n",
        "name"
      ],
      "metadata": {
        "colab": {
          "base_uri": "https://localhost:8080/"
        },
        "id": "LGvxONOHn11z",
        "outputId": "2ad95ce3-f821-4204-c3c0-82e6f5fd21c5"
      },
      "execution_count": 2,
      "outputs": [
        {
          "output_type": "execute_result",
          "data": {
            "text/plain": [
              "['freedom_fighter', 'Mohan', 'dash', 'karam', 'chandra', 'gandhi', 'Bapu']"
            ]
          },
          "metadata": {},
          "execution_count": 2
        }
      ]
    },
    {
      "cell_type": "code",
      "source": [
        "name.extend([\"Netaji\", \"Bose\"])\n",
        "name"
      ],
      "metadata": {
        "colab": {
          "base_uri": "https://localhost:8080/"
        },
        "id": "2AyGTM-6om0c",
        "outputId": "41d87e5d-9fa4-451d-a7c2-eefa1790e2f6"
      },
      "execution_count": 3,
      "outputs": [
        {
          "output_type": "execute_result",
          "data": {
            "text/plain": [
              "['freedom_fighter',\n",
              " 'Mohan',\n",
              " 'dash',\n",
              " 'karam',\n",
              " 'chandra',\n",
              " 'gandhi',\n",
              " 'Bapu',\n",
              " 'Netaji',\n",
              " 'Bose']"
            ]
          },
          "metadata": {},
          "execution_count": 3
        }
      ]
    },
    {
      "cell_type": "code",
      "source": [
        "name = [\"Bapuji\", \"dash\", \"karam\", \"chandra\", \"gandhi\", \"Mohan\"]\n",
        "temp = name[-1]\n",
        "name[-1] = name[0]\n",
        "name[0] = temp\n",
        "print(name)\n"
      ],
      "metadata": {
        "colab": {
          "base_uri": "https://localhost:8080/"
        },
        "id": "TuVJlsAYovlp",
        "outputId": "28be9733-8e6a-431d-deef-fe9a6762008e"
      },
      "execution_count": 4,
      "outputs": [
        {
          "output_type": "stream",
          "name": "stdout",
          "text": [
            "['Mohan', 'dash', 'karam', 'chandra', 'gandhi', 'Bapuji']\n"
          ]
        }
      ]
    },
    {
      "cell_type": "markdown",
      "source": [
        "Question 1.4.Find the output of the following.\n",
        "\n",
        "animal = ['Human','cat','mat', 'cat', 'rat', 'Human', 'Lion']\n",
        "\n",
        "print(animal.count('Human'))\n",
        "\n",
        "print(animal.index('rat'))\n",
        "\n",
        "print(len(animal))\\"
      ],
      "metadata": {
        "id": "wdEMYSuYpFDI"
      }
    },
    {
      "cell_type": "code",
      "source": [
        "animal = ['Human','cat','mat', 'cat', 'rat', 'Human', 'Lion']\n",
        "\n",
        "print(animal.count('Human'))\n",
        "\n",
        "print(animal.index('rat'))\n",
        "\n",
        "print(len(animal))"
      ],
      "metadata": {
        "colab": {
          "base_uri": "https://localhost:8080/"
        },
        "id": "2Vy2BuctpF9a",
        "outputId": "50990e5d-451d-4fec-dae9-ce25e086878f"
      },
      "execution_count": 5,
      "outputs": [
        {
          "output_type": "stream",
          "name": "stdout",
          "text": [
            "2\n",
            "4\n",
            "7\n"
          ]
        }
      ]
    },
    {
      "cell_type": "markdown",
      "source": [
        "Question 1.5. tuple1=(10,20,\"Apple\", 3.4,'a', [\"master\",\"ji\"],(\"sita\",\"geeta\",22),[{\"roll_no\":1}, {\"name\":\"Navneet\"}])\n",
        "\n",
        "a)print(len(tuplel))\n",
        "\n",
        "b) print(tuplel[-1][-1][\"name\"])\n",
        "\n",
        "c) fetch the value of roll_no from this tuple.\n",
        "\n",
        "d)print(tuplel[-3][1])\n",
        "\n",
        "e) fetch the element \"22\" from this tuple."
      ],
      "metadata": {
        "id": "eV8AjoFGpZ54"
      }
    },
    {
      "cell_type": "code",
      "source": [
        "tuple1=(10,20,\"Apple\", 3.4,'a', [\"master\",\"ji\"],(\"sita\",\"geeta\",22),[{\"roll_no\":1}, {\"name\":\"Navneet\"}])\n",
        "\n",
        "print(len(tuple1))\n",
        "\n",
        "print(tuple1[-1][-1][\"name\"])\n",
        "\n",
        "print(tuple1[-3][1])\n",
        "\n",
        "tuple1[-2]\n",
        "\n"
      ],
      "metadata": {
        "colab": {
          "base_uri": "https://localhost:8080/"
        },
        "id": "RmdA_ZnypehQ",
        "outputId": "9035edf0-2dd1-48f5-a51f-854b911e0c6d"
      },
      "execution_count": 8,
      "outputs": [
        {
          "output_type": "stream",
          "name": "stdout",
          "text": [
            "8\n",
            "Navneet\n",
            "ji\n"
          ]
        },
        {
          "output_type": "execute_result",
          "data": {
            "text/plain": [
              "('sita', 'geeta', 22)"
            ]
          },
          "metadata": {},
          "execution_count": 8
        }
      ]
    },
    {
      "cell_type": "markdown",
      "source": [
        "1.6. Write a program to display the appropriate message as per the color of signal (RED-Stop/Yellow-Stay/ Green-Go) at the road crossing."
      ],
      "metadata": {
        "id": "0ypeq9SOqLBw"
      }
    },
    {
      "cell_type": "code",
      "source": [
        "# Function to display message based on signal color\n",
        "def display_signal_message(signal_color):\n",
        "    # Convert input to lowercase to handle case-insensitive input\n",
        "    signal_color = signal_color.lower()\n",
        "\n",
        "    # Check the color and print the corresponding message\n",
        "    if signal_color == \"red\":\n",
        "        print(\"Stop\")\n",
        "    elif signal_color == \"yellow\":\n",
        "        print(\"Stay\")\n",
        "    elif signal_color == \"green\":\n",
        "        print(\"Go\")\n",
        "    else:\n",
        "        print(\"Invalid color. Please enter Red, Yellow, or Green.\")\n",
        "\n",
        "# Main program\n",
        "if __name__ == \"__main__\":\n",
        "    # Ask user for input\n",
        "    user_input = input(\"Enter the color of the traffic signal (Red/Yellow/Green): \")\n",
        "\n",
        "    # Display the appropriate message\n",
        "    display_signal_message(user_input)\n"
      ],
      "metadata": {
        "colab": {
          "base_uri": "https://localhost:8080/"
        },
        "id": "u518PcFLqMO3",
        "outputId": "2bc72017-fec6-4e22-816e-aa2d22def328"
      },
      "execution_count": 9,
      "outputs": [
        {
          "output_type": "stream",
          "name": "stdout",
          "text": [
            "Enter the color of the traffic signal (Red/Yellow/Green): Red\n",
            "Stop\n"
          ]
        }
      ]
    },
    {
      "cell_type": "markdown",
      "source": [
        "1.9. Write a program to find the factors of a whole number using a while loop.\n",
        "\n",
        "1.10. Write a program to find the sum of all the positive numbers entered by the user. As soon as the user\n",
        "enters a negative number, stop taking in any further input from the user and display the sum.\n",
        "\n",
        "1.11. Write a program to find prime numbers between 2 to 100 using nested for loops."
      ],
      "metadata": {
        "id": "okSLngCPqgJH"
      }
    },
    {
      "cell_type": "code",
      "source": [
        "# Function to find and print factors of a number\n",
        "def find_factors(number):\n",
        "    i = 1\n",
        "    print(f\"Factors of {number} are:\")\n",
        "    while i <= number:\n",
        "        if number % i == 0:\n",
        "            print(i, end=\" \")\n",
        "        i += 1\n",
        "    print()\n",
        "\n",
        "# Main program\n",
        "if __name__ == \"__main__\":\n",
        "    try:\n",
        "        num = int(input(\"Enter a whole number: \"))\n",
        "        find_factors(num)\n",
        "    except ValueError:\n",
        "        print(\"Please enter a valid whole number.\")\n"
      ],
      "metadata": {
        "colab": {
          "base_uri": "https://localhost:8080/"
        },
        "id": "6p2dRhs9qiq2",
        "outputId": "9277559e-5d23-4ccf-c101-daa543e79c69"
      },
      "execution_count": 10,
      "outputs": [
        {
          "output_type": "stream",
          "name": "stdout",
          "text": [
            "Enter a whole number: 10\n",
            "Factors of 10 are:\n",
            "1 2 5 10 \n"
          ]
        }
      ]
    },
    {
      "cell_type": "code",
      "source": [
        "# Function to sum positive numbers\n",
        "def sum_positive_numbers():\n",
        "    total_sum = 0\n",
        "    while True:\n",
        "        try:\n",
        "            num = float(input(\"Enter a positive number (or a negative number to stop): \"))\n",
        "            if num < 0:\n",
        "                break\n",
        "            else:\n",
        "                total_sum += num\n",
        "        except ValueError:\n",
        "            print(\"Please enter a valid number.\")\n",
        "    print(f\"Sum of all positive numbers entered: {total_sum}\")\n",
        "\n",
        "# Main program\n",
        "if __name__ == \"__main__\":\n",
        "    sum_positive_numbers()\n"
      ],
      "metadata": {
        "colab": {
          "base_uri": "https://localhost:8080/"
        },
        "id": "f2hDtB7AqqF5",
        "outputId": "f91a879f-86e0-467a-c982-aa42cde94553"
      },
      "execution_count": 11,
      "outputs": [
        {
          "output_type": "stream",
          "name": "stdout",
          "text": [
            "Enter a positive number (or a negative number to stop): 5\n",
            "Enter a positive number (or a negative number to stop): 10\n",
            "Enter a positive number (or a negative number to stop): 15\n",
            "Enter a positive number (or a negative number to stop): 2\n",
            "Enter a positive number (or a negative number to stop): \n",
            "Please enter a valid number.\n",
            "Enter a positive number (or a negative number to stop): -1\n",
            "Sum of all positive numbers entered: 32.0\n"
          ]
        }
      ]
    },
    {
      "cell_type": "code",
      "source": [
        "# Function to find prime numbers between a given range\n",
        "def find_prime_numbers(start, end):\n",
        "    print(f\"Prime numbers between {start} and {end} are:\")\n",
        "    for num in range(start, end + 1):\n",
        "        if num > 1:\n",
        "            is_prime = True\n",
        "            for i in range(2, int(num ** 0.5) + 1):\n",
        "                if num % i == 0:\n",
        "                    is_prime = False\n",
        "                    break\n",
        "            if is_prime:\n",
        "                print(num, end=\" \")\n",
        "    print()\n",
        "\n",
        "# Main program\n",
        "if __name__ == \"__main__\":\n",
        "    find_prime_numbers(2, 100)\n"
      ],
      "metadata": {
        "colab": {
          "base_uri": "https://localhost:8080/"
        },
        "id": "JMP8LAPSq5pX",
        "outputId": "5a9cb303-89b9-45e3-cb11-556f34888b01"
      },
      "execution_count": 12,
      "outputs": [
        {
          "output_type": "stream",
          "name": "stdout",
          "text": [
            "Prime numbers between 2 and 100 are:\n",
            "2 3 5 7 11 13 17 19 23 29 31 37 41 43 47 53 59 61 67 71 73 79 83 89 97 \n"
          ]
        }
      ]
    },
    {
      "cell_type": "markdown",
      "source": [
        "1.12. Write the programs for the following:\n",
        "\n",
        "• Accept the marks of the student in five major subjects and display the same.\n",
        "\n",
        "• Calculate the sum of the marks of all subjects.Divide the total marks by number of subjects (i.e. 5), calculate percentage = total marks/5 and display the percentage.\n",
        "\n",
        "• Find the grade of the student as per the following criteria. Hint: Use Match & case for this.:\n",
        "\n",
        "Criteria\n",
        "Grade\n",
        "\n",
        "percentage > 85\n",
        "A\n",
        "percentage < 85 && percentage >= 75\n",
        "\n",
        "B\n",
        "percentage < 75 && percentage >= 50\n",
        "\n",
        "C\n",
        "percentage > 30 && percentage <= 50\n",
        "D\n",
        "percentage <30\n",
        "Reappear"
      ],
      "metadata": {
        "id": "3MxZf63ErD_s"
      }
    },
    {
      "cell_type": "code",
      "source": [
        "def main():\n",
        "    # Accept marks for five subjects\n",
        "    marks = []\n",
        "    subjects = [\"Subject 1\", \"Subject 2\", \"Subject 3\", \"Subject 4\", \"Subject 5\"]\n",
        "\n",
        "    print(\"Enter the marks for the following subjects:\")\n",
        "    for subject in subjects:\n",
        "        while True:\n",
        "            try:\n",
        "                mark = float(input(f\"{subject}: \"))\n",
        "                if mark < 0:\n",
        "                    print(\"Marks cannot be negative. Please enter a valid number.\")\n",
        "                else:\n",
        "                    marks.append(mark)\n",
        "                    break\n",
        "            except ValueError:\n",
        "                print(\"Invalid input. Please enter a valid number.\")\n",
        "\n",
        "    # Display the marks\n",
        "    print(\"\\nMarks obtained:\")\n",
        "    for i, mark in enumerate(marks, start=1):\n",
        "        print(f\"Subject {i}: {mark}\")\n",
        "\n",
        "    # Calculate the total marks and percentage\n",
        "    total_marks = sum(marks)\n",
        "    number_of_subjects = len(marks)\n",
        "    percentage = total_marks / number_of_subjects\n",
        "\n",
        "    # Display the percentage\n",
        "    print(f\"\\nTotal Marks: {total_marks}\")\n",
        "    print(f\"Percentage: {percentage:.2f}%\")\n",
        "\n",
        "    # Determine and display the grade\n",
        "    match percentage:\n",
        "        case p if p > 85:\n",
        "            grade = \"A\"\n",
        "        case p if 75 <= p <= 85:\n",
        "            grade = \"B\"\n",
        "        case p if 50 <= p < 75:\n",
        "            grade = \"C\"\n",
        "        case p if 30 <= p < 50:\n",
        "            grade = \"D\"\n",
        "        case _:\n",
        "            grade = \"Reappear\"\n",
        "\n",
        "    print(f\"Grade: {grade}\")\n",
        "\n",
        "# Main entry point\n",
        "if __name__ == \"__main__\":\n",
        "    main()\n"
      ],
      "metadata": {
        "colab": {
          "base_uri": "https://localhost:8080/"
        },
        "id": "jcG7bEO7rMXH",
        "outputId": "f172f698-7940-439f-f4cb-e3449fecee08"
      },
      "execution_count": 13,
      "outputs": [
        {
          "output_type": "stream",
          "name": "stdout",
          "text": [
            "Enter the marks for the following subjects:\n",
            "Subject 1: 98\n",
            "Subject 2: 85\n",
            "Subject 3: 96\n",
            "Subject 4: 85\n",
            "Subject 5: 75\n",
            "\n",
            "Marks obtained:\n",
            "Subject 1: 98.0\n",
            "Subject 2: 85.0\n",
            "Subject 3: 96.0\n",
            "Subject 4: 85.0\n",
            "Subject 5: 75.0\n",
            "\n",
            "Total Marks: 439.0\n",
            "Percentage: 87.80%\n",
            "Grade: A\n"
          ]
        }
      ]
    },
    {
      "cell_type": "markdown",
      "source": [
        "1.14.Consider the gravitational interactions between the Earth, Moon, and Sun in our solar system. Given:\n",
        "mass_earth = 5.972e24 # Mass of Earth in kilograms\n",
        "mass_moon = 7.34767309e22 #Mass of Moon in kilograms\n",
        "mass_sun = 1.989e30 # Mass of Sun in kilograms\n",
        "distance_earth_sun = 1.496ell # Average distance between Earth and Sun in meters\n",
        "distance_moon_earth = 3.844e8 # Average distance between Moon and Earth in meters\n",
        "Tasks:\n",
        "\n",
        "• Calculate the gravitational force between the Earth and the Sun.\n",
        "\n",
        "• Calculate the gravitation force between the Moon and the Earth.\n",
        "\n",
        "• Compare the calculated forces to determine which gravitational force is stronger.\n",
        "\n",
        "• Explain which celestial body (Earth or Moon) is more attracted to the other based on the comparison."
      ],
      "metadata": {
        "id": "Nv61G-5Zrdaj"
      }
    },
    {
      "cell_type": "code",
      "source": [
        "G = 6.67430e-11  # Gravitational constant in m^3 kg^-1 s^-2\n",
        "\n",
        "# Masses\n",
        "mass_earth = 5.972e24  # kg\n",
        "mass_sun = 1.989e30    # kg\n",
        "\n",
        "# Distance\n",
        "distance_earth_sun = 1.496e11  # meters\n",
        "\n",
        "# Gravitational force between Earth and Sun\n",
        "force_earth_sun = G * (mass_earth * mass_sun) / (distance_earth_sun ** 2)\n"
      ],
      "metadata": {
        "id": "kpEknKferqi9"
      },
      "execution_count": 14,
      "outputs": []
    },
    {
      "cell_type": "code",
      "source": [
        "# Masses\n",
        "mass_moon = 7.34767309e22  # kg\n",
        "\n",
        "# Distance\n",
        "distance_moon_earth = 3.844e8  # meters\n",
        "\n",
        "# Gravitational force between Moon and Earth\n",
        "force_moon_earth = G * (mass_earth * mass_moon) / (distance_moon_earth ** 2)\n"
      ],
      "metadata": {
        "id": "_cFiImKmr2EB"
      },
      "execution_count": 15,
      "outputs": []
    },
    {
      "cell_type": "code",
      "source": [
        "# Compare the forces\n",
        "if force_earth_sun > force_moon_earth:\n",
        "    stronger_force = \"Earth and Sun\"\n",
        "    weaker_force = \"Moon and Earth\"\n",
        "else:\n",
        "    stronger_force = \"Moon and Earth\"\n",
        "    weaker_force = \"Earth and Sun\"\n"
      ],
      "metadata": {
        "id": "OtSFwnbcr6pi"
      },
      "execution_count": 16,
      "outputs": []
    },
    {
      "cell_type": "code",
      "source": [
        "# Constants\n",
        "G = 6.67430e-11  # Gravitational constant in m^3 kg^-1 s^-2\n",
        "\n",
        "# Masses\n",
        "mass_earth = 5.972e24  # kg\n",
        "mass_moon = 7.34767309e22  # kg\n",
        "mass_sun = 1.989e30    # kg\n",
        "\n",
        "# Distances\n",
        "distance_earth_sun = 1.496e11  # meters\n",
        "distance_moon_earth = 3.844e8  # meters\n",
        "\n",
        "# Calculate forces\n",
        "force_earth_sun = G * (mass_earth * mass_sun) / (distance_earth_sun ** 2)\n",
        "force_moon_earth = G * (mass_earth * mass_moon) / (distance_moon_earth ** 2)\n",
        "\n",
        "# Print forces\n",
        "print(f\"Gravitational force between Earth and Sun: {force_earth_sun:.2e} N\")\n",
        "print(f\"Gravitational force between Moon and Earth: {force_moon_earth:.2e} N\")\n",
        "\n",
        "# Compare forces\n",
        "if force_earth_sun > force_moon_earth:\n",
        "    print(\"The gravitational force between Earth and Sun is stronger.\")\n",
        "    print(\"Earth is more attracted to the Sun.\")\n",
        "else:\n",
        "    print(\"The gravitational force between Moon and Earth is stronger.\")\n",
        "    print(\"The Moon is more attracted to the Earth.\")\n"
      ],
      "metadata": {
        "colab": {
          "base_uri": "https://localhost:8080/"
        },
        "id": "-C2GTHjCr_1R",
        "outputId": "91eaa034-bafe-4bed-b5a4-67270330eaa4"
      },
      "execution_count": 17,
      "outputs": [
        {
          "output_type": "stream",
          "name": "stdout",
          "text": [
            "Gravitational force between Earth and Sun: 3.54e+22 N\n",
            "Gravitational force between Moon and Earth: 1.98e+20 N\n",
            "The gravitational force between Earth and Sun is stronger.\n",
            "Earth is more attracted to the Sun.\n"
          ]
        }
      ]
    },
    {
      "cell_type": "markdown",
      "source": [
        "2. Design and implement a Python program for managing student information using object-oriented\n",
        "principles. Create a class called `Student` with encapsulated attributes for name, age, and roll number.\n",
        "Implement getter and setter methods for these attributes. Additionally, provide methods to display student\n",
        "information and update student details.\n",
        "\n",
        "\n",
        "Tasks\u000e\n",
        "3 Define the `Student` class with encapsulated attributes\u0016\n",
        "3 Implement getter and setter methods for the attributes\u0016\n",
        "3 Write methods to display student information and update details\u0016\n",
        "3 Create instances of the `Student` class and test the implemented functionality\u0017\n",
        "**bold text**"
      ],
      "metadata": {
        "id": "QSApJuGDR-s5"
      }
    },
    {
      "cell_type": "code",
      "source": [
        "class Student:\n",
        "    def __init__(self, name, age, roll_number):\n",
        "        self.__name = name\n",
        "        self.__age = age\n",
        "        self.__roll_number = roll_number\n",
        "\n",
        "    # Getter methods\n",
        "    def get_name(self):\n",
        "        return self.__name\n",
        "\n",
        "    def get_age(self):\n",
        "        return self.__age\n",
        "\n",
        "    def get_roll_number(self):\n",
        "        return self.__roll_number\n",
        "\n",
        "    # Setter methods\n",
        "    def set_name(self, name):\n",
        "        self.__name = name\n",
        "\n",
        "    def set_age(self, age):\n",
        "        self.__age = age\n",
        "\n",
        "    def set_roll_number(self, roll_number):\n",
        "        self.__roll_number = roll_number\n",
        "\n",
        "    # Method to display student information\n",
        "    def display_info(self):\n",
        "        print(f\"Name: {self.__name}\")\n",
        "        print(f\"Age: {self.__age}\")\n",
        "        print(f\"Roll Number: {self.__roll_number}\")\n",
        "\n",
        "    # Method to update student details\n",
        "    def update_details(self, name=None, age=None, roll_number=None):\n",
        "        if name:\n",
        "            self.__name = name\n",
        "        if age:\n",
        "            self.__age = age\n",
        "        if roll_number:\n",
        "            self.__roll_number = roll_number\n",
        "        print(\"Student details updated successfully.\")\n",
        "\n",
        "# Create instances of the Student class and test the implemented functionality\n",
        "\n",
        "# Creating a student instance\n",
        "student1 = Student(\"Alice\", 20, \"S101\")\n",
        "\n",
        "\n",
        "print(\"Original Student Information:\")\n",
        "student1.display_info()\n",
        "\n",
        "\n",
        "student1.update_details(name=\"Alice Johnson\", age=21)\n",
        "\n",
        "\n",
        "print(\"\\nUpdated Student Information:\")\n",
        "student1.display_info()\n",
        "\n",
        "\n",
        "student2 = Student(\"Bob\", 22, \"S102\")\n",
        "print(\"\\nUsing Getter and Setter Methods:\")\n",
        "print(f\"Name: {student2.get_name()}\")\n",
        "student2.set_name(\"Bob Smith\")\n",
        "print(f\"Updated Name: {student2.get_name()}\")\n"
      ],
      "metadata": {
        "colab": {
          "base_uri": "https://localhost:8080/"
        },
        "id": "Ay7yceydRq7U",
        "outputId": "93c6e996-c17c-4416-9a6f-1fe651030aed"
      },
      "execution_count": null,
      "outputs": [
        {
          "output_type": "stream",
          "name": "stdout",
          "text": [
            "Original Student Information:\n",
            "Name: Alice\n",
            "Age: 20\n",
            "Roll Number: S101\n",
            "Student details updated successfully.\n",
            "\n",
            "Updated Student Information:\n",
            "Name: Alice Johnson\n",
            "Age: 21\n",
            "Roll Number: S101\n",
            "\n",
            "Using Getter and Setter Methods:\n",
            "Name: Bob\n",
            "Updated Name: Bob Smith\n"
          ]
        }
      ]
    },
    {
      "cell_type": "markdown",
      "source": [
        "3.Develop a Python program for managing library resources efficiently. Design a class named `LibraryBoo\u000f`\n",
        "with attributes li\u000fe boo\u000f name, author, and availability status. Implement methods for borrowing and\n",
        "returning boo\u000fs while ensuring proper encapsulation of attributes.\n",
        "\n",
        "\n",
        "Tasks\u000e\n",
        "3 1. Create the `LibraryBook` class with encapsulated attributes\u0016\n",
        "3 2. Implement methods for borrowing and returning books\u0016\n",
        "3 3. Ensure proper encapsulation to protect book details\u0016\n",
        "3 4. Test the borrowing and returning functionality with sample data."
      ],
      "metadata": {
        "id": "x6HZrvNkSZNg"
      }
    },
    {
      "cell_type": "code",
      "source": [
        "class LibraryBook:\n",
        "    def __init__(self, book_name, author):\n",
        "        self.__book_name = book_name\n",
        "        self.__author = author\n",
        "        self.__is_available = True  # By default, the book is available\n",
        "\n",
        "    # Getter methods\n",
        "    def get_book_name(self):\n",
        "        return self.__book_name\n",
        "\n",
        "    def get_author(self):\n",
        "        return self.__author\n",
        "\n",
        "    def is_available(self):\n",
        "        return self.__is_available\n",
        "\n",
        "    # Method to borrow a book\n",
        "    def borrow_book(self):\n",
        "        if self.__is_available:\n",
        "            self.__is_available = False\n",
        "            print(f\"You have successfully borrowed '{self.__book_name}' by {self.__author}.\")\n",
        "        else:\n",
        "            print(f\"Sorry, '{self.__book_name}' is currently unavailable.\")\n",
        "\n",
        "    # Method to return a book\n",
        "    def return_book(self):\n",
        "        if not self.__is_available:\n",
        "            self.__is_available = True\n",
        "            print(f\"Thank you for returning '{self.__book_name}'.\")\n",
        "        else:\n",
        "            print(f\"'{self.__book_name}' was not borrowed.\")\n",
        "\n",
        "# Test the borrowing and returning functionality with sample data\n",
        "\n",
        "# Creating book instances\n",
        "book1 = LibraryBook(\"The Great Gatsby\", \"F. Scott Fitzgerald\")\n",
        "book2 = LibraryBook(\"1984\", \"George Orwell\")\n",
        "\n",
        "# Test borrowing books\n",
        "print(\"Borrowing Books:\")\n",
        "book1.borrow_book()  # Should succeed\n",
        "book1.borrow_book()  # Should indicate the book is unavailable\n",
        "\n",
        "# Test returning books\n",
        "print(\"\\nReturning Books:\")\n",
        "book1.return_book()  # Should succeed\n",
        "book1.return_book()  # Should indicate the book was not borrowed\n",
        "\n",
        "# Test another book\n",
        "print(\"\\nTesting Another Book:\")\n",
        "book2.borrow_book()  # Should succeed\n",
        "book2.return_book()  # Should succeed\n",
        "\n",
        "# Check availability status\n",
        "print(\"\\nChecking Availability:\")\n",
        "print(f\"Is '{book1.get_book_name()}' available? {'Yes' if book1.is_available() else 'No'}\")\n",
        "print(f\"Is '{book2.get_book_name()}' available? {'Yes' if book2.is_available() else 'No'}\")\n"
      ],
      "metadata": {
        "colab": {
          "base_uri": "https://localhost:8080/"
        },
        "id": "xrnNLclcSahn",
        "outputId": "6519243b-079d-465f-f9a1-6de8a172fcd1"
      },
      "execution_count": null,
      "outputs": [
        {
          "output_type": "stream",
          "name": "stdout",
          "text": [
            "Borrowing Books:\n",
            "You have successfully borrowed 'The Great Gatsby' by F. Scott Fitzgerald.\n",
            "Sorry, 'The Great Gatsby' is currently unavailable.\n",
            "\n",
            "Returning Books:\n",
            "Thank you for returning 'The Great Gatsby'.\n",
            "'The Great Gatsby' was not borrowed.\n",
            "\n",
            "Testing Another Book:\n",
            "You have successfully borrowed '1984' by George Orwell.\n",
            "Thank you for returning '1984'.\n",
            "\n",
            "Checking Availability:\n",
            "Is 'The Great Gatsby' available? Yes\n",
            "Is '1984' available? Yes\n"
          ]
        }
      ]
    },
    {
      "cell_type": "markdown",
      "source": [
        "4.Create a simple ban\u000fing system using object-oriented concepts in Python. Design classes representing\n",
        "different types of ban\u000f accounts such as savings and chec\u000fing. Implement methods for deposit, withdraw,\n",
        "and balance inquiry. Utilize inheritance to manage different account types efficiently.\n",
        "\n",
        "\n",
        "Tasks\u000e\n",
        "3 1. Define base class(es) for bank accounts with common attributes and methods\u0016\n",
        "3 2. Implement subclasses for specific account types (e.g., SavingsAccount, CheckingAccount)\u0016\n",
        "3 3. Provide methods for deposit, withdraw, and balance inquiry in each subclass\u0016\n",
        "3 4. Test the banking system by creating instances of different account types and performing transactions."
      ],
      "metadata": {
        "id": "sy146pHoSfuP"
      }
    },
    {
      "cell_type": "code",
      "source": [
        "class BankAccount:\n",
        "    def __init__(self, account_number, holder_name, balance=0):\n",
        "        self._account_number = account_number\n",
        "        self._holder_name = holder_name\n",
        "        self._balance = balance\n",
        "\n",
        "    def deposit(self, amount):\n",
        "        if amount > 0:\n",
        "            self._balance += amount\n",
        "            print(f\"Deposited ${amount}. New balance: ${self._balance}.\")\n",
        "        else:\n",
        "            print(\"Deposit amount must be positive.\")\n",
        "\n",
        "    def withdraw(self, amount):\n",
        "        if amount > 0 and amount <= self._balance:\n",
        "            self._balance -= amount\n",
        "            print(f\"Withdrew ${amount}. New balance: ${self._balance}.\")\n",
        "        elif amount > self._balance:\n",
        "            print(\"Insufficient funds.\")\n",
        "        else:\n",
        "            print(\"Withdrawal amount must be positive.\")\n",
        "\n",
        "    def inquire_balance(self):\n",
        "        return self._balance\n",
        "\n",
        "\n",
        "class SavingsAccount(BankAccount):\n",
        "    def __init__(self, account_number, holder_name, balance=0, interest_rate=0.01):\n",
        "        super().__init__(account_number, holder_name, balance)\n",
        "        self.interest_rate = interest_rate\n",
        "\n",
        "    def apply_interest(self):\n",
        "        interest = self._balance * self.interest_rate\n",
        "        self.deposit(interest)\n",
        "        print(f\"Applied interest of ${interest}. New balance: ${self._balance}.\")\n",
        "\n",
        "\n",
        "class CheckingAccount(BankAccount):\n",
        "    def __init__(self, account_number, holder_name, balance=0, overdraft_limit=100):\n",
        "        super().__init__(account_number, holder_name, balance)\n",
        "        self.overdraft_limit = overdraft_limit\n",
        "\n",
        "    def withdraw(self, amount):\n",
        "        if amount > 0 and amount <= (self._balance + self.overdraft_limit):\n",
        "            self._balance -= amount\n",
        "            print(f\"Withdrew ${amount}. New balance: ${self._balance}.\")\n",
        "        elif amount > (self._balance + self.overdraft_limit):\n",
        "            print(\"Insufficient funds, even considering overdraft limit.\")\n",
        "        else:\n",
        "            print(\"Withdrawal amount must be positive.\")\n",
        "\n",
        "\n",
        "# Test the banking system\n",
        "def test_banking_system():\n",
        "    # Create a savings account and perform operations\n",
        "    savings_account = SavingsAccount(\"SA123\", \"Alice\", balance=500)\n",
        "    print(\"\\nSavings Account Operations:\")\n",
        "    savings_account.deposit(200)\n",
        "    savings_account.withdraw(150)\n",
        "    savings_account.apply_interest()\n",
        "    print(f\"Balance inquiry: ${savings_account.inquire_balance()}\")\n",
        "\n",
        "    # Create a checking account and perform operations\n",
        "    checking_account = CheckingAccount(\"CA456\", \"Bob\", balance=300)\n",
        "    print(\"\\nChecking Account Operations:\")\n",
        "    checking_account.deposit(100)\n",
        "    checking_account.withdraw(350)\n",
        "    checking_account.withdraw(200)  # Attempt to withdraw more than balance + overdraft limit\n",
        "    print(f\"Balance inquiry: ${checking_account.inquire_balance()}\")\n",
        "\n",
        "\n",
        "# Run the test\n",
        "test_banking_system()\n"
      ],
      "metadata": {
        "colab": {
          "base_uri": "https://localhost:8080/"
        },
        "id": "knQP4t8oSjt_",
        "outputId": "26a48bbb-596c-4be0-bdc6-d3698b8a7b1b"
      },
      "execution_count": null,
      "outputs": [
        {
          "output_type": "stream",
          "name": "stdout",
          "text": [
            "\n",
            "Savings Account Operations:\n",
            "Deposited $200. New balance: $700.\n",
            "Withdrew $150. New balance: $550.\n",
            "Deposited $5.5. New balance: $555.5.\n",
            "Applied interest of $5.5. New balance: $555.5.\n",
            "Balance inquiry: $555.5\n",
            "\n",
            "Checking Account Operations:\n",
            "Deposited $100. New balance: $400.\n",
            "Withdrew $350. New balance: $50.\n",
            "Insufficient funds, even considering overdraft limit.\n",
            "Balance inquiry: $50\n"
          ]
        }
      ]
    },
    {
      "cell_type": "markdown",
      "source": [
        "5.Write a Python program that models different animals and their sounds. Design a base class called\n",
        "`Animal` with a method `ma\u000fe_sound()`. Create subclasses li\u000fe `Dog` and `Cat` that override the\n",
        "`ma\u000fe_sound()` method to produce appropriate sounds.\n",
        "\n",
        "\n",
        "Tasks\u000e\n",
        "3 1. Define the `Animal` class with a method `make_sound()`\u0016\n",
        "3 2. Create subclasses `Dog` and `Cat` that override the `make_sound()` method\u0016\n",
        "3 3. Implement the sound generation logic for each subclass\u0016\n",
        "3 4. Test the program by creating instances of `Dog` and `Cat` and calling the `make_sound()` method."
      ],
      "metadata": {
        "id": "n12Rx4lASqaX"
      }
    },
    {
      "cell_type": "markdown",
      "source": [],
      "metadata": {
        "id": "eCWpWJ4OR8e7"
      }
    },
    {
      "cell_type": "code",
      "source": [
        "class Animal:\n",
        "    def make_sound(self):\n",
        "        raise NotImplementedError(\"Subclass must implement abstract method\")\n",
        "\n",
        "\n",
        "class Dog(Animal):\n",
        "    def make_sound(self):\n",
        "        print(\"Woof! Woof!\")\n",
        "\n",
        "\n",
        "class Cat(Animal):\n",
        "    def make_sound(self):\n",
        "        print(\"Meow! Meow!\")\n",
        "\n",
        "\n",
        "# Test the program\n",
        "def test_animal_sounds():\n",
        "    # Create instances of Dog and Cat\n",
        "    dog = Dog()\n",
        "    cat = Cat()\n",
        "\n",
        "    # Call the make_sound() method\n",
        "    print(\"Dog Sound:\")\n",
        "    dog.make_sound()\n",
        "\n",
        "    print(\"\\nCat Sound:\")\n",
        "    cat.make_sound()\n",
        "\n",
        "\n",
        "# Run the test\n",
        "test_animal_sounds()\n"
      ],
      "metadata": {
        "colab": {
          "base_uri": "https://localhost:8080/"
        },
        "id": "GF_kv5ldSujA",
        "outputId": "a7744d35-79a8-4bc9-d5aa-528b72856de6"
      },
      "execution_count": null,
      "outputs": [
        {
          "output_type": "stream",
          "name": "stdout",
          "text": [
            "Dog Sound:\n",
            "Woof! Woof!\n",
            "\n",
            "Cat Sound:\n",
            "Meow! Meow!\n"
          ]
        }
      ]
    },
    {
      "cell_type": "markdown",
      "source": [
        "6.Write a code for Restaurant Management System Using OO4S3\n",
        "& Create a MenuItem 'lass that has attributes su'h as name, des'ription, pri'e, and 'ategory\u0014\n",
        "& Implement methods to add a new menu item, update menu item information, and remove a menu item\n",
        "from the menu\u0014\n",
        "& Use en'apsulation to hide the menu item's unique identifi'ation number\u0014\n",
        "& Inherit from the MenuItem 'lass to 'reate a FoodItem 'lass and a BeverageItem 'lass, ea'h with their own\n",
        "spe'ifi' attributes and methods."
      ],
      "metadata": {
        "id": "2KzkyO9AS5Rh"
      }
    },
    {
      "cell_type": "code",
      "source": [
        "import itertools\n",
        "\n",
        "class MenuItem:\n",
        "    _id_counter = itertools.count(1)  # Unique ID generator\n",
        "\n",
        "    def __init__(self, name, description, price, category):\n",
        "        self.__id = next(MenuItem._id_counter)\n",
        "        self.name = name\n",
        "        self.description = description\n",
        "        self.price = price\n",
        "        self.category = category\n",
        "\n",
        "    # Getter for ID (only if needed, but generally ID should be kept private)\n",
        "    def get_id(self):\n",
        "        return self.__id\n",
        "\n",
        "    # Method to update menu item information\n",
        "    def update_info(self, name=None, description=None, price=None, category=None):\n",
        "        if name is not None:\n",
        "            self.name = name\n",
        "        if description is not None:\n",
        "            self.description = description\n",
        "        if price is not None:\n",
        "            self.price = price\n",
        "        if category is not None:\n",
        "            self.category = category\n",
        "\n",
        "    # Method to display menu item information\n",
        "    def display_info(self):\n",
        "        print(f\"ID: {self.__id}\")\n",
        "        print(f\"Name: {self.name}\")\n",
        "        print(f\"Description: {self.description}\")\n",
        "        print(f\"Price: ${self.price:.2f}\")\n",
        "        print(f\"Category: {self.category}\")\n",
        "\n",
        "    # Static method to remove a menu item (example implementation)\n",
        "    @staticmethod\n",
        "    def remove_item(item_list, item_id):\n",
        "        item_list[:] = [item for item in item_list if item.get_id() != item_id]\n",
        "\n",
        "\n",
        "class FoodItem(MenuItem):\n",
        "    def __init__(self, name, description, price, category, cuisine_type):\n",
        "        super().__init__(name, description, price, category)\n",
        "        self.cuisine_type = cuisine_type\n",
        "\n",
        "    # Method specific to food items\n",
        "    def display_info(self):\n",
        "        super().display_info()\n",
        "        print(f\"Cuisine Type: {self.cuisine_type}\")\n",
        "\n",
        "\n",
        "class BeverageItem(MenuItem):\n",
        "    def __init__(self, name, description, price, category, is_alcoholic):\n",
        "        super().__init__(name, description, price, category)\n",
        "        self.is_alcoholic = is_alcoholic\n",
        "\n",
        "    # Method specific to beverage items\n",
        "    def display_info(self):\n",
        "        super().display_info()\n",
        "        print(f\"Alcoholic: {'Yes' if self.is_alcoholic else 'No'}\")\n",
        "\n",
        "\n",
        "# Test the Restaurant Management System\n",
        "def test_restaurant_management_system():\n",
        "    # Create menu items\n",
        "    pizza = FoodItem(\"Margherita Pizza\", \"Classic cheese pizza\", 12.99, \"Main Course\", \"Italian\")\n",
        "    soda = BeverageItem(\"Cola\", \"Refreshing cola drink\", 1.99, \"Beverage\", False)\n",
        "\n",
        "    # Store items in a list\n",
        "    menu_items = [pizza, soda]\n",
        "\n",
        "    # Display all items\n",
        "    print(\"Menu Items:\")\n",
        "    for item in menu_items:\n",
        "        item.display_info()\n",
        "        print()\n",
        "\n",
        "    # Update and display the pizza item\n",
        "    pizza.update_info(price=13.99)\n",
        "    print(\"Updated Pizza Item:\")\n",
        "    pizza.display_info()\n",
        "    print()\n",
        "\n",
        "    # Remove the soda item and display remaining items\n",
        "    MenuItem.remove_item(menu_items, soda.get_id())\n",
        "    print(\"Remaining Menu Items:\")\n",
        "    for item in menu_items:\n",
        "        item.display_info()\n",
        "        print()\n",
        "\n",
        "# Run the test\n",
        "test_restaurant_management_system()\n"
      ],
      "metadata": {
        "colab": {
          "base_uri": "https://localhost:8080/"
        },
        "id": "2DNYjstzS6hf",
        "outputId": "85541945-88ce-4c5e-c176-106902b4dd0f"
      },
      "execution_count": null,
      "outputs": [
        {
          "output_type": "stream",
          "name": "stdout",
          "text": [
            "Menu Items:\n",
            "ID: 1\n",
            "Name: Margherita Pizza\n",
            "Description: Classic cheese pizza\n",
            "Price: $12.99\n",
            "Category: Main Course\n",
            "Cuisine Type: Italian\n",
            "\n",
            "ID: 2\n",
            "Name: Cola\n",
            "Description: Refreshing cola drink\n",
            "Price: $1.99\n",
            "Category: Beverage\n",
            "Alcoholic: No\n",
            "\n",
            "Updated Pizza Item:\n",
            "ID: 1\n",
            "Name: Margherita Pizza\n",
            "Description: Classic cheese pizza\n",
            "Price: $13.99\n",
            "Category: Main Course\n",
            "Cuisine Type: Italian\n",
            "\n",
            "Remaining Menu Items:\n",
            "ID: 1\n",
            "Name: Margherita Pizza\n",
            "Description: Classic cheese pizza\n",
            "Price: $13.99\n",
            "Category: Main Course\n",
            "Cuisine Type: Italian\n",
            "\n"
          ]
        }
      ]
    },
    {
      "cell_type": "markdown",
      "source": [
        "\u0015.Write a code for  Hotel Management System using OO4S 3\n",
        "& Create a Room 'lass that has attributes su'h as room number, room type, rate, and availability (private)\u0014\n",
        "& Implement methods to book a room, 'he'k in a guest, and 'he'k out a guest\u0014\n",
        "& Use en'apsulation to hide the room's unique identifi'ation number\u0014\n",
        "& Inherit from the Room 'lass to 'reate a SuiteRoom 'lass and a StandardRoom 'lass, ea'h with their own\n",
        "spe'ifi' attributes and methods."
      ],
      "metadata": {
        "id": "QsLVVK0MTCG4"
      }
    },
    {
      "cell_type": "code",
      "source": [
        "class Room:\n",
        "    _id_counter = 1  # Class variable for room ID generation\n",
        "\n",
        "    def __init__(self, room_type, rate):\n",
        "        self.__room_number = Room._id_counter\n",
        "        Room._id_counter += 1\n",
        "        self.room_type = room_type\n",
        "        self.rate = rate\n",
        "        self.__is_available = True\n",
        "\n",
        "    # Getter for room number (only if needed)\n",
        "    def get_room_number(self):\n",
        "        return self.__room_number\n",
        "\n",
        "    # Method to book a room\n",
        "    def book_room(self):\n",
        "        if self.__is_available:\n",
        "            self.__is_available = False\n",
        "            print(f\"Room {self.__room_number} booked successfully.\")\n",
        "        else:\n",
        "            print(f\"Room {self.__room_number} is already booked.\")\n",
        "\n",
        "    # Method to check in a guest\n",
        "    def check_in(self):\n",
        "        if not self.__is_available:\n",
        "            print(f\"Guest checked into Room {self.__room_number}.\")\n",
        "        else:\n",
        "            print(f\"Room {self.__room_number} is not booked. Cannot check in.\")\n",
        "\n",
        "    # Method to check out a guest\n",
        "    def check_out(self):\n",
        "        if not self.__is_available:\n",
        "            self.__is_available = True\n",
        "            print(f\"Guest checked out of Room {self.__room_number}.\")\n",
        "        else:\n",
        "            print(f\"Room {self.__room_number} is not currently occupied. Cannot check out.\")\n",
        "\n",
        "    # Method to display room information\n",
        "    def display_info(self):\n",
        "        availability = \"Available\" if self.__is_available else \"Not Available\"\n",
        "        print(f\"Room Number: {self.__room_number}\")\n",
        "        print(f\"Room Type: {self.room_type}\")\n",
        "        print(f\"Rate: ${self.rate:.2f}\")\n",
        "        print(f\"Availability: {availability}\")\n",
        "\n",
        "\n",
        "class SuiteRoom(Room):\n",
        "    def __init__(self, rate, num_bedrooms):\n",
        "        super().__init__(\"Suite\", rate)\n",
        "        self.num_bedrooms = num_bedrooms\n",
        "\n",
        "    # Method to display suite room information\n",
        "    def display_info(self):\n",
        "        super().display_info()\n",
        "        print(f\"Number of Bedrooms: {self.num_bedrooms}\")\n",
        "\n",
        "\n",
        "class StandardRoom(Room):\n",
        "    def __init__(self, rate, has_balcony):\n",
        "        super().__init__(\"Standard\", rate)\n",
        "        self.has_balcony = has_balcony\n",
        "\n",
        "    # Method to display standard room information\n",
        "    def display_info(self):\n",
        "        super().display_info()\n",
        "        print(f\"Has Balcony: {'Yes' if self.has_balcony else 'No'}\")\n",
        "\n",
        "\n",
        "# Test the Hotel Management System\n",
        "def test_hotel_management_system():\n",
        "    # Create room instances\n",
        "    suite = SuiteRoom(rate=250, num_bedrooms=2)\n",
        "    standard = StandardRoom(rate=100, has_balcony=True)\n",
        "\n",
        "    # Display room information\n",
        "    print(\"Room Information:\")\n",
        "    suite.display_info()\n",
        "    print()\n",
        "    standard.display_info()\n",
        "    print()\n",
        "\n",
        "    # Test booking and check-in/check-out functionality\n",
        "    print(\"Booking and Check-In/Check-Out Operations:\")\n",
        "    suite.book_room()\n",
        "    suite.check_in()\n",
        "    suite.check_out()\n",
        "    suite.check_out()  # Attempt to check out again\n",
        "    print()\n",
        "\n",
        "    standard.book_room()\n",
        "    standard.check_in()\n",
        "    standard.check_out()\n",
        "    standard.check_in()  # Attempt to check in again\n",
        "    print()\n",
        "\n",
        "# Run the test\n",
        "test_hotel_management_system()\n"
      ],
      "metadata": {
        "colab": {
          "base_uri": "https://localhost:8080/"
        },
        "id": "sfakUM_kTDHH",
        "outputId": "cbc46e75-16a1-42bb-9e62-8009002c9436"
      },
      "execution_count": null,
      "outputs": [
        {
          "output_type": "stream",
          "name": "stdout",
          "text": [
            "Room Information:\n",
            "Room Number: 1\n",
            "Room Type: Suite\n",
            "Rate: $250.00\n",
            "Availability: Available\n",
            "Number of Bedrooms: 2\n",
            "\n",
            "Room Number: 2\n",
            "Room Type: Standard\n",
            "Rate: $100.00\n",
            "Availability: Available\n",
            "Has Balcony: Yes\n",
            "\n",
            "Booking and Check-In/Check-Out Operations:\n",
            "Room 1 booked successfully.\n",
            "Guest checked into Room 1.\n",
            "Guest checked out of Room 1.\n",
            "Room 1 is not currently occupied. Cannot check out.\n",
            "\n",
            "Room 2 booked successfully.\n",
            "Guest checked into Room 2.\n",
            "Guest checked out of Room 2.\n",
            "Room 2 is not booked. Cannot check in.\n",
            "\n"
          ]
        }
      ]
    },
    {
      "cell_type": "markdown",
      "source": [
        "8.Write a code for  Fitness Club Management System using OO4S3\n",
        "& Create a Member 'lass that has attributes su'h as name, age, membership type, and membership status\n",
        "(private)\u0014\n",
        "& Implement methods to register a new member, renew a membership, and 'an'el a membership\u0014\n",
        "& Use en'apsulation to hide the member's unique identifi'ation number\u0014\n",
        "& Inherit from the Member 'lass to 'reate a FamilyMember 'lass and an IndividualMember 'lass, ea'h with\n",
        "their own spe'ifi' attributes and methods\u0014"
      ],
      "metadata": {
        "id": "WelecrEQTMOQ"
      }
    },
    {
      "cell_type": "code",
      "source": [
        "import itertools\n",
        "\n",
        "class Member:\n",
        "    _id_counter = itertools.count(1)  # Unique ID generator\n",
        "\n",
        "    def __init__(self, name, age, membership_type):\n",
        "        self.__id = next(Member._id_counter)\n",
        "        self.name = name\n",
        "        self.age = age\n",
        "        self.membership_type = membership_type\n",
        "        self.__membership_status = \"Active\"  # Membership is active by default\n",
        "\n",
        "    # Getter for ID (only if needed)\n",
        "    def get_id(self):\n",
        "        return self.__id\n",
        "\n",
        "    # Method to register a new member\n",
        "    def register_member(self):\n",
        "        print(f\"Member {self.name} registered successfully with ID {self.__id}.\")\n",
        "\n",
        "    # Method to renew a membership\n",
        "    def renew_membership(self):\n",
        "        if self.__membership_status == \"Cancelled\":\n",
        "            self.__membership_status = \"Active\"\n",
        "            print(f\"Membership for {self.name} renewed successfully.\")\n",
        "        else:\n",
        "            print(f\"Membership for {self.name} is already active.\")\n",
        "\n",
        "    # Method to cancel a membership\n",
        "    def cancel_membership(self):\n",
        "        if self.__membership_status == \"Active\":\n",
        "            self.__membership_status = \"Cancelled\"\n",
        "            print(f\"Membership for {self.name} has been cancelled.\")\n",
        "        else:\n",
        "            print(f\"Membership for {self.name} is already cancelled.\")\n",
        "\n",
        "    # Method to display member information\n",
        "    def display_info(self):\n",
        "        print(f\"Member ID: {self.__id}\")\n",
        "        print(f\"Name: {self.name}\")\n",
        "        print(f\"Age: {self.age}\")\n",
        "        print(f\"Membership Type: {self.membership_type}\")\n",
        "        print(f\"Membership Status: {self.__membership_status}\")\n",
        "\n",
        "\n",
        "class FamilyMember(Member):\n",
        "    def __init__(self, name, age, membership_type, num_family_members):\n",
        "        super().__init__(name, age, membership_type)\n",
        "        self.num_family_members = num_family_members\n",
        "\n",
        "    # Method to display family member information\n",
        "    def display_info(self):\n",
        "        super().display_info()\n",
        "        print(f\"Number of Family Members: {self.num_family_members}\")\n",
        "\n",
        "\n",
        "class IndividualMember(Member):\n",
        "    def __init__(self, name, age, membership_type, personal_trainer):\n",
        "        super().__init__(name, age, membership_type)\n",
        "        self.personal_trainer = personal_trainer\n",
        "\n",
        "    # Method to display individual member information\n",
        "    def display_info(self):\n",
        "        super().display_info()\n",
        "        print(f\"Personal Trainer: {self.personal_trainer}\")\n",
        "\n",
        "\n",
        "# Test the Fitness Club Management System\n",
        "def test_fitness_club_management_system():\n",
        "    # Create member instances\n",
        "    family_member = FamilyMember(name=\"John Doe\", age=40, membership_type=\"Family\", num_family_members=4)\n",
        "    individual_member = IndividualMember(name=\"Jane Smith\", age=30, membership_type=\"Individual\", personal_trainer=\"Mike\")\n",
        "\n",
        "    # Register and display information\n",
        "    print(\"Registering and Displaying Members:\")\n",
        "    family_member\n"
      ],
      "metadata": {
        "id": "hY9fAYN6TQGX"
      },
      "execution_count": null,
      "outputs": []
    },
    {
      "cell_type": "markdown",
      "source": [
        "9.Write a code for  Event Management System using OO4S3\n",
        "& Create an Event 'lass that has attributes su'h as name, date, time, lo'ation, and list of attendees (private)\u0014\n",
        "& Implement methods to 'reate a new event, add or remove attendees, and get the total number of\n",
        "attendees\u0014\n",
        "& Use en'apsulation to hide the event's unique identifi'ation number\u0014\n",
        "& Inherit from the Event 'lass to 'reate a PrivateEvent 'lass and a Publi'Event 'lass, ea'h with their own\n",
        "spe'ifi' attributes and methods."
      ],
      "metadata": {
        "id": "mCqprbknTWj3"
      }
    },
    {
      "cell_type": "code",
      "source": [
        "import itertools\n",
        "\n",
        "class Event:\n",
        "    _id_counter = itertools.count(1)  # Unique ID generator\n",
        "\n",
        "    def __init__(self, name, date, time, location):\n",
        "        self.__id = next(Event._id_counter)\n",
        "        self.name = name\n",
        "        self.date = date\n",
        "        self.time = time\n",
        "        self.location = location\n",
        "        self.__attendees = []\n",
        "\n",
        "    # Getter for event ID (only if needed)\n",
        "    def get_id(self):\n",
        "        return self.__id\n",
        "\n",
        "    # Method to create a new event\n",
        "    def create_event(self):\n",
        "        print(f\"Event '{self.name}' created with ID {self.__id}.\")\n",
        "\n",
        "    # Method to add an attendee\n",
        "    def add_attendee(self, attendee_name):\n",
        "        if attendee_name not in self.__attendees:\n",
        "            self.__attendees.append(attendee_name)\n",
        "            print(f\"Added {attendee_name} to the attendee list.\")\n",
        "        else:\n",
        "            print(f\"{attendee_name} is already an attendee.\")\n",
        "\n",
        "    # Method to remove an attendee\n",
        "    def remove_attendee(self, attendee_name):\n",
        "        if attendee_name in self.__attendees:\n",
        "            self.__attendees.remove(attendee_name)\n",
        "            print(f\"Removed {attendee_name} from the attendee list.\")\n",
        "        else:\n",
        "            print(f\"{attendee_name} is not in the attendee list.\")\n",
        "\n",
        "    # Method to get the total number of attendees\n",
        "    def get_total_attendees(self):\n",
        "        return len(self.__attendees)\n",
        "\n",
        "    # Method to display event information\n",
        "    def display_info(self):\n",
        "        print(f\"Event ID: {self.__id}\")\n",
        "        print(f\"Name: {self.name}\")\n",
        "        print(f\"Date: {self.date}\")\n",
        "        print(f\"Time: {self.time}\")\n",
        "        print(f\"Location: {self.location}\")\n",
        "        print(f\"Total Attendees: {self.get_total_attendees()}\")\n",
        "\n",
        "\n",
        "class PrivateEvent(Event):\n",
        "    def __init__(self, name, date, time, location, host_name):\n",
        "        super().__init__(name, date, time, location)\n",
        "        self.host_name = host_name\n",
        "\n",
        "    # Method to display private event information\n",
        "    def display_info(self):\n",
        "        super().display_info()\n",
        "        print(f\"Host Name: {self.host_name}\")\n",
        "\n",
        "\n",
        "class PublicEvent(Event):\n",
        "    def __init__(self, name, date, time, location, ticket_price):\n",
        "        super().__init__(name, date, time, location)\n",
        "        self.ticket_price = ticket_price\n",
        "\n",
        "    # Method to display public event information\n",
        "    def display_info(self):\n",
        "        super().display_info()\n",
        "        print(f\"Ticket Price: ${self.ticket_price:.2f}\")\n",
        "\n",
        "\n",
        "# Test the Event Management System\n",
        "def test_event_management_system():\n",
        "    # Create event instances\n",
        "    private_event = PrivateEvent(name=\"Private Party\", date=\"2024-09-15\", time=\"18:00\", location=\"Rooftop Lounge\", host_name=\"Alice\")\n",
        "    public_event = PublicEvent(name=\"Music Festival\", date=\"2024-10-20\", time=\"14:00\", location=\"City Park\", ticket_price=25.00)\n",
        "\n",
        "    # Create events\n",
        "    print(\"Creating Events:\")\n",
        "    private_event.create_event()\n",
        "    public_event.create_event()\n",
        "    print()\n",
        "\n",
        "    # Add and remove attendees\n",
        "    print(\"Managing Attendees for Private Event:\")\n",
        "    private_event.add_attendee(\"John Doe\")\n",
        "    private_event.add_attendee(\"Jane Smith\")\n",
        "    private_event.remove_attendee(\"John Doe\")\n",
        "    print()\n",
        "\n",
        "    print(\"Managing Attendees for Public Event:\")\n",
        "    public_event.add_attendee(\"Alice Johnson\")\n",
        "    public_event.add_attendee(\"Bob Brown\")\n",
        "    public_event.remove_attendee(\"Alice Johnson\")\n",
        "    print()\n",
        "\n",
        "    # Display event information\n",
        "    print(\"Event Information:\")\n",
        "    private_event.display_info()\n",
        "    print()\n",
        "    public_event.display_info()\n",
        "\n",
        "\n",
        "# Run the test\n",
        "test_event_management_system()\n"
      ],
      "metadata": {
        "colab": {
          "base_uri": "https://localhost:8080/"
        },
        "id": "zL0l4W_-TXO4",
        "outputId": "6f3bd191-4365-428c-ef8f-468efdead8b1"
      },
      "execution_count": null,
      "outputs": [
        {
          "output_type": "stream",
          "name": "stdout",
          "text": [
            "Creating Events:\n",
            "Event 'Private Party' created with ID 1.\n",
            "Event 'Music Festival' created with ID 2.\n",
            "\n",
            "Managing Attendees for Private Event:\n",
            "Added John Doe to the attendee list.\n",
            "Added Jane Smith to the attendee list.\n",
            "Removed John Doe from the attendee list.\n",
            "\n",
            "Managing Attendees for Public Event:\n",
            "Added Alice Johnson to the attendee list.\n",
            "Added Bob Brown to the attendee list.\n",
            "Removed Alice Johnson from the attendee list.\n",
            "\n",
            "Event Information:\n",
            "Event ID: 1\n",
            "Name: Private Party\n",
            "Date: 2024-09-15\n",
            "Time: 18:00\n",
            "Location: Rooftop Lounge\n",
            "Total Attendees: 1\n",
            "Host Name: Alice\n",
            "\n",
            "Event ID: 2\n",
            "Name: Music Festival\n",
            "Date: 2024-10-20\n",
            "Time: 14:00\n",
            "Location: City Park\n",
            "Total Attendees: 1\n",
            "Ticket Price: $25.00\n"
          ]
        }
      ]
    },
    {
      "cell_type": "markdown",
      "source": [
        "10.Write a code for Airline Reservation System using OO4S3\n",
        "& Create a Flight 'lass that has attributes su'h as flight number, departure and arrival airports, departure and\n",
        "arrival times, and available seats (private)\u0014\n",
        "& Implement methods to book a seat, 'an'el a reservation, and get the remaining available seats\u0014\n",
        "& Use en'apsulation to hide the flight's unique identifi'ation number\u0014\n",
        "& Inherit from the Flight 'lass to 'reate a Domesti'Flight 'lass and an InternationalFlight 'lass, ea'h with their\n",
        "own spe'ifi' attributes and methods."
      ],
      "metadata": {
        "id": "fST_NVLHTitX"
      }
    },
    {
      "cell_type": "code",
      "source": [
        "import itertools\n",
        "\n",
        "class Flight:\n",
        "    _id_counter = itertools.count(1)  # Unique ID generator\n",
        "\n",
        "    def __init__(self, departure_airport, arrival_airport, departure_time, arrival_time, total_seats):\n",
        "        self.__id = next(Flight._id_counter)\n",
        "        self.departure_airport = departure_airport\n",
        "        self.arrival_airport = arrival_airport\n",
        "        self.departure_time = departure_time\n",
        "        self.arrival_time = arrival_time\n",
        "        self.__available_seats = total_seats\n",
        "\n",
        "    # Getter for flight ID (only if needed)\n",
        "    def get_id(self):\n",
        "        return self.__id\n",
        "\n",
        "    # Method to book a seat\n",
        "    def book_seat(self):\n",
        "        if self.__available_seats > 0:\n",
        "            self.__available_seats -= 1\n",
        "            print(f\"Seat booked successfully. Remaining seats: {self.__available_seats}.\")\n",
        "        else:\n",
        "            print(\"No available seats to book.\")\n",
        "\n",
        "    # Method to cancel a reservation\n",
        "    def cancel_reservation(self):\n",
        "        if self.__available_seats < 100:  # Assuming a max capacity of 100 for simplicity\n",
        "            self.__available_seats += 1\n",
        "            print(f\"Reservation cancelled successfully. Remaining seats: {self.__available_seats}.\")\n",
        "        else:\n",
        "            print(\"No reservations to cancel.\")\n",
        "\n",
        "    # Method to get the remaining available seats\n",
        "    def get_remaining_seats(self):\n",
        "        return self.__available_seats\n",
        "\n",
        "    # Method to display flight information\n",
        "    def display_info(self):\n",
        "        print(f\"Flight ID: {self.__id}\")\n",
        "        print(f\"Departure Airport: {self.departure_airport}\")\n",
        "        print(f\"Arrival Airport: {self.arrival_airport}\")\n",
        "        print(f\"Departure Time: {self.departure_time}\")\n",
        "        print(f\"Arrival Time: {self.arrival_time}\")\n",
        "        print(f\"Available Seats: {self.__available_seats}\")\n",
        "\n",
        "\n",
        "class DomesticFlight(Flight):\n",
        "    def __init__(self, departure_airport, arrival_airport, departure_time, arrival_time, total_seats, domestic_airline):\n",
        "        super().__init__(departure_airport, arrival_airport, departure_time, arrival_time, total_seats)\n",
        "        self.domestic_airline = domestic_airline\n",
        "\n",
        "    # Method to display domestic flight information\n",
        "    def display_info(self):\n",
        "        super().display_info()\n",
        "        print(f\"Domestic Airline: {self.domestic_airline}\")\n",
        "\n",
        "\n",
        "class InternationalFlight(Flight):\n",
        "    def __init__(self, departure_airport, arrival_airport, departure_time, arrival_time, total_seats, international_airline, visa_required):\n",
        "        super().__init__(departure_airport, arrival_airport, departure_time, arrival_time, total_seats)\n",
        "        self.international_airline = international_airline\n",
        "        self.visa_required = visa_required\n",
        "\n",
        "    # Method to display international flight information\n",
        "    def display_info(self):\n",
        "        super().display_info()\n",
        "        print(f\"International Airline: {self.international_airline}\")\n",
        "        print(f\"Visa Required: {'Yes' if self.visa_required else 'No'}\")\n",
        "\n",
        "\n",
        "# Test the Airline Reservation System\n",
        "def test_airline_reservation_system():\n",
        "    # Create flight instances\n",
        "    domestic_flight = DomesticFlight(departure_airport=\"JFK\", arrival_airport=\"LAX\", departure_time=\"10:00\", arrival_time=\"13:00\", total_seats=50, domestic_airline=\"American Airlines\")\n",
        "    international_flight = InternationalFlight(departure_airport=\"JFK\", arrival_airport=\"LHR\", departure_time=\"18:00\", arrival_time=\"06:00\", total_seats=200, international_airline=\"British Airways\", visa_required=True)\n",
        "\n",
        "    # Display flight information\n",
        "    print(\"Flight Information:\")\n",
        "    domestic_flight.display_info()\n",
        "    print()\n",
        "    international_flight.display_info()\n",
        "    print()\n",
        "\n",
        "    # Book and cancel reservations\n",
        "    print(\"Booking and Canceling Reservations:\")\n",
        "    domestic_flight.book_seat()\n",
        "    domestic_flight.cancel_reservation()\n",
        "    domestic_flight.display_info()\n",
        "    print()\n",
        "\n",
        "    international_flight.book_seat()\n",
        "    international_flight.cancel_reservation()\n",
        "    international_flight.display_info()\n",
        "\n",
        "# Run the test\n",
        "test_airline_reservation_system()\n",
        "\n"
      ],
      "metadata": {
        "colab": {
          "base_uri": "https://localhost:8080/"
        },
        "id": "tuPIY70GTks_",
        "outputId": "b3f16d7e-286e-49dd-ffd8-2cc1b282dae5"
      },
      "execution_count": null,
      "outputs": [
        {
          "output_type": "stream",
          "name": "stdout",
          "text": [
            "Flight Information:\n",
            "Flight ID: 1\n",
            "Departure Airport: JFK\n",
            "Arrival Airport: LAX\n",
            "Departure Time: 10:00\n",
            "Arrival Time: 13:00\n",
            "Available Seats: 50\n",
            "Domestic Airline: American Airlines\n",
            "\n",
            "Flight ID: 2\n",
            "Departure Airport: JFK\n",
            "Arrival Airport: LHR\n",
            "Departure Time: 18:00\n",
            "Arrival Time: 06:00\n",
            "Available Seats: 200\n",
            "International Airline: British Airways\n",
            "Visa Required: Yes\n",
            "\n",
            "Booking and Canceling Reservations:\n",
            "Seat booked successfully. Remaining seats: 49.\n",
            "Reservation cancelled successfully. Remaining seats: 50.\n",
            "Flight ID: 1\n",
            "Departure Airport: JFK\n",
            "Arrival Airport: LAX\n",
            "Departure Time: 10:00\n",
            "Arrival Time: 13:00\n",
            "Available Seats: 50\n",
            "Domestic Airline: American Airlines\n",
            "\n",
            "Seat booked successfully. Remaining seats: 199.\n",
            "No reservations to cancel.\n",
            "Flight ID: 2\n",
            "Departure Airport: JFK\n",
            "Arrival Airport: LHR\n",
            "Departure Time: 18:00\n",
            "Arrival Time: 06:00\n",
            "Available Seats: 199\n",
            "International Airline: British Airways\n",
            "Visa Required: Yes\n"
          ]
        }
      ]
    },
    {
      "cell_type": "markdown",
      "source": [
        "11. Define a Python module named constants.py containing constants like pi and the speed of light."
      ],
      "metadata": {
        "id": "5-tRwSXFT9cQ"
      }
    },
    {
      "cell_type": "code",
      "source": [
        "# constants.py\n",
        "\n",
        "# Mathematical constant for pi\n",
        "PI = 3.141592653589793\n",
        "\n",
        "# Speed of light in meters per second\n",
        "SPEED_OF_LIGHT = 299792458\n",
        "import constants\n",
        "\n",
        "print(\"Value of PI:\", constants.PI)\n",
        "print(\"Speed of Light:\", constants.SPEED_OF_LIGHT, \"m/s\")\n",
        "\n",
        "Value of PI: 3.141592653589793\n",
        "Speed of Light: 299792458 m/s\n"
      ],
      "metadata": {
        "id": "QpGJisLTT94g"
      },
      "execution_count": null,
      "outputs": []
    },
    {
      "cell_type": "markdown",
      "source": [
        "12. Write a Python module named calculator.py containing functions for addition, subtraction,\n",
        "multiplication, and division."
      ],
      "metadata": {
        "id": "o3G0HKpSUH_3"
      }
    },
    {
      "cell_type": "code",
      "source": [
        "\n",
        "# calculator.py\n",
        "\n",
        "def add(a, b):\n",
        "    \"\"\"Return the sum of a and b.\"\"\"\n",
        "    return a + b\n",
        "\n",
        "def subtract(a, b):\n",
        "    \"\"\"Return the difference between a and b.\"\"\"\n",
        "    return a - b\n",
        "\n",
        "def multiply(a, b):\n",
        "    \"\"\"Return the product of a and b.\"\"\"\n",
        "    return a * b\n",
        "\n",
        "def divide(a, b):\n",
        "    \"\"\"Return the quotient of a divided by b.\n",
        "\n",
        "    Raises:\n",
        "        ValueError: If b is zero, as division by zero is not allowed.\n",
        "    \"\"\"\n",
        "    if b == 0:\n",
        "        raise ValueError(\"Cannot divide by zero.\")\n",
        "    return a / b\n"
      ],
      "metadata": {
        "id": "sVS6T9sOURGZ"
      },
      "execution_count": null,
      "outputs": []
    },
    {
      "cell_type": "code",
      "source": [
        "# import calculator\n",
        "\n",
        "a = 10\n",
        "b = 5\n",
        "\n",
        "print(\"Addition:\", calculator.add(a, b))\n",
        "print(\"Subtraction:\", calculator.subtract(a, b))\n",
        "print(\"Multiplication:\", calculator.multiply(a, b))\n",
        "\n",
        "try:\n",
        "    print(\"Division:\", calculator.divide(a, b))\n",
        "except ValueError as e:\n",
        "    print(e)\n",
        "\n",
        "Addition: 15\n",
        "Subtraction: 5\n",
        "Multiplication: 50\n",
        "Division: 2.0"
      ],
      "metadata": {
        "id": "XBIMq4rDVEcn"
      },
      "execution_count": null,
      "outputs": []
    },
    {
      "cell_type": "markdown",
      "source": [
        "13. Implement a Python package structure for a project named ecommerce, containing modules for product\n",
        "management and order processing."
      ],
      "metadata": {
        "id": "HlNie0miVFPw"
      }
    },
    {
      "cell_type": "code",
      "source": [
        "# ecommerce/product_management.py\n",
        "\n",
        "class Product:\n",
        "    def __init__(self, name, price, stock):\n",
        "        self.name = name\n",
        "        self.price = price\n",
        "        self.stock = stock\n",
        "\n",
        "    def update_stock(self, quantity):\n",
        "        \"\"\"Update the stock of the product.\"\"\"\n",
        "        if quantity < 0 and abs(quantity) > self.stock:\n",
        "            raise ValueError(\"Cannot reduce stock below zero.\")\n",
        "        self.stock += quantity\n",
        "\n",
        "    def __str__(self):\n",
        "        return f\"Product(name={self.name}, price={self.price}, stock={self.stock})\"\n"
      ],
      "metadata": {
        "id": "z-h6lNQFVM8g"
      },
      "execution_count": null,
      "outputs": []
    },
    {
      "cell_type": "code",
      "source": [
        "# ecommerce/order_processing.py\n",
        "\n",
        "class Order:\n",
        "    def __init__(self, order_id, product, quantity):\n",
        "        self.order_id = order_id\n",
        "        self.product = product\n",
        "        self.quantity = quantity\n",
        "\n",
        "    def process_order(self):\n",
        "        \"\"\"Process the order by updating the product stock.\"\"\"\n",
        "        if self.quantity > self.product.stock:\n",
        "            raise ValueError(\"Insufficient stock to fulfill the order.\")\n",
        "        self.product.update_stock(-self.quantity)\n",
        "        return f\"Order {self.order_id} processed for {self.product.name}.\"\n",
        "\n",
        "    def __str__(self):\n",
        "        return f\"Order(order_id={self.order_id}, product={self.product.name}, quantity={self.quantity})\"\n"
      ],
      "metadata": {
        "id": "pGGffGcHVYj-"
      },
      "execution_count": null,
      "outputs": []
    },
    {
      "cell_type": "markdown",
      "source": [
        "\n",
        "14. Implement a Python module named string_utils.py containing functions for string manipulation, such as\n",
        "reversing and capitalizing strings.\n",
        "> Add blockquote\n",
        "\n"
      ],
      "metadata": {
        "id": "POMb8K_WVMjg"
      }
    },
    {
      "cell_type": "code",
      "source": [
        "# string_utils.py\n",
        "\n",
        "def reverse_string(s):\n",
        "    \"\"\"Return the reverse of the given string.\"\"\"\n",
        "    return s[::-1]\n",
        "\n",
        "def capitalize_string(s):\n",
        "    \"\"\"Return the string with the first letter of each word capitalized.\"\"\"\n",
        "    return s.title()\n",
        "\n",
        "def upper_case_string(s):\n",
        "    \"\"\"Return the string in uppercase.\"\"\"\n",
        "    return s.upper()\n",
        "\n",
        "def lower_case_string(s):\n",
        "    \"\"\"Return the string in lowercase.\"\"\"\n",
        "    return s.lower()\n"
      ],
      "metadata": {
        "id": "TiRyGRglVqb9"
      },
      "execution_count": null,
      "outputs": []
    },
    {
      "cell_type": "markdown",
      "source": [
        "15. Write a Python module named file_operations.py with functions for reading, writing, and appending\n",
        "data to a file."
      ],
      "metadata": {
        "id": "9MWKUersV6AV"
      }
    },
    {
      "cell_type": "code",
      "source": [
        "# file_operations.py\n",
        "\n",
        "def read_file(file_path):\n",
        "    \"\"\"Read the content of a file and return it as a string.\"\"\"\n",
        "    with open(file_path, 'r') as file:\n",
        "        return file.read()\n",
        "\n",
        "def write_file(file_path, data):\n",
        "    \"\"\"Write data to a file, overwriting any existing content.\"\"\"\n",
        "    with open(file_path, 'w') as file:\n",
        "        file.write(data)\n",
        "\n",
        "def append_to_file(file_path, data):\n",
        "    \"\"\"Append data to a file, creating the file if it does not exist.\"\"\"\n",
        "    with open(file_path, 'a') as file:\n",
        "        file.write(data)\n",
        "\n",
        "# --- Remove the import statement ---\n",
        "# import file_operations\n",
        "\n",
        "# Define the file path\n",
        "file_path = 'example.txt'\n",
        "\n",
        "# Write data to the file\n",
        "write_file(file_path, \"This is a test.\\n\") # Call the functions directly\n",
        "\n",
        "# Append data to the file\n",
        "append_to_file(file_path, \"Appending more data.\\n\") # Call the functions directly\n",
        "\n",
        "# Read and print the file content\n",
        "content = read_file(file_path) # Call the functions directly\n",
        "print(content)"
      ],
      "metadata": {
        "colab": {
          "base_uri": "https://localhost:8080/"
        },
        "id": "3Senfdo0V4tW",
        "outputId": "ce3a4cf9-59af-4d9f-d074-2d80a70ffba6"
      },
      "execution_count": null,
      "outputs": [
        {
          "output_type": "stream",
          "name": "stdout",
          "text": [
            "This is a test.\n",
            "Appending more data.\n",
            "\n"
          ]
        }
      ]
    },
    {
      "cell_type": "markdown",
      "source": [
        "39. Basic Flask Route to Display \"Hello, World!\""
      ],
      "metadata": {
        "id": "8NDOCtf4516g"
      }
    },
    {
      "cell_type": "code",
      "source": [
        "!pip install Flask\n",
        "\n",
        "from flask import Flask\n",
        "\n",
        "app = Flask(__name__)\n",
        "\n",
        "@app.route('/')\n",
        "def home():\n",
        "    return 'Hello, World!'\n",
        "\n",
        "if __name__ == '__main__':\n",
        "    app.run(debug=True)\n"
      ],
      "metadata": {
        "colab": {
          "base_uri": "https://localhost:8080/"
        },
        "id": "v_VCbSU853NW",
        "outputId": "d4c12f22-2f32-4282-edbc-cd1c8493297d"
      },
      "execution_count": 19,
      "outputs": [
        {
          "output_type": "stream",
          "name": "stdout",
          "text": [
            "Requirement already satisfied: Flask in /usr/local/lib/python3.10/dist-packages (2.2.5)\n",
            "Requirement already satisfied: Werkzeug>=2.2.2 in /usr/local/lib/python3.10/dist-packages (from Flask) (3.0.3)\n",
            "Requirement already satisfied: Jinja2>=3.0 in /usr/local/lib/python3.10/dist-packages (from Flask) (3.1.4)\n",
            "Requirement already satisfied: itsdangerous>=2.0 in /usr/local/lib/python3.10/dist-packages (from Flask) (2.2.0)\n",
            "Requirement already satisfied: click>=8.0 in /usr/local/lib/python3.10/dist-packages (from Flask) (8.1.7)\n",
            "Requirement already satisfied: MarkupSafe>=2.0 in /usr/local/lib/python3.10/dist-packages (from Jinja2>=3.0->Flask) (2.1.5)\n",
            " * Serving Flask app '__main__'\n",
            " * Debug mode: on\n"
          ]
        },
        {
          "output_type": "stream",
          "name": "stderr",
          "text": [
            "INFO:werkzeug:\u001b[31m\u001b[1mWARNING: This is a development server. Do not use it in a production deployment. Use a production WSGI server instead.\u001b[0m\n",
            " * Running on http://127.0.0.1:5000\n",
            "INFO:werkzeug:\u001b[33mPress CTRL+C to quit\u001b[0m\n",
            "INFO:werkzeug: * Restarting with stat\n"
          ]
        }
      ]
    },
    {
      "cell_type": "code",
      "source": [],
      "metadata": {
        "id": "EPsAqSfcPxPL"
      },
      "execution_count": null,
      "outputs": []
    },
    {
      "cell_type": "code",
      "source": [
        "# 40. Handling Form Submissions with POST Requests\n",
        "\n",
        "# <!-- templates/form.html -->\n",
        "# <form action=\"/submit\" method=\"post\">\n",
        "#     <input type=\"text\" name=\"username\" placeholder=\"Enter username\">\n",
        "#<input type=\"submit\" value=\"Submit\">  # Removed unexpected indent\n",
        "# </form>\n",
        "\n",
        "from flask import Flask, request, render_template\n",
        "\n",
        "app = Flask(__name__)\n",
        "\n",
        "@app.route('/')\n",
        "def form():\n",
        "    return render_template('form.html')\n",
        "\n",
        "@app.route('/submit', methods=['POST'])\n",
        "def submit():\n",
        "    username = request.form['username']\n",
        "    return f'Hello, {username}!'\n",
        "\n",
        "if __name__ == '__main__':\n",
        "    app.run(debug=True)"
      ],
      "metadata": {
        "colab": {
          "base_uri": "https://localhost:8080/"
        },
        "id": "mhNDVMDo-uHz",
        "outputId": "ce1577c0-74aa-4bb9-f08e-da7737da6554"
      },
      "execution_count": 3,
      "outputs": [
        {
          "output_type": "stream",
          "name": "stdout",
          "text": [
            " * Serving Flask app '__main__'\n",
            " * Debug mode: on\n"
          ]
        },
        {
          "output_type": "stream",
          "name": "stderr",
          "text": [
            "INFO:werkzeug:\u001b[31m\u001b[1mWARNING: This is a development server. Do not use it in a production deployment. Use a production WSGI server instead.\u001b[0m\n",
            " * Running on http://127.0.0.1:5000\n",
            "INFO:werkzeug:\u001b[33mPress CTRL+C to quit\u001b[0m\n",
            "INFO:werkzeug: * Restarting with stat\n"
          ]
        }
      ]
    },
    {
      "cell_type": "markdown",
      "source": [
        "43. Connecting Flask to SQLite Database using SQLAlchemy\n",
        "\n",
        "\n"
      ],
      "metadata": {
        "id": "uyCLHU9j-t1T"
      }
    },
    {
      "cell_type": "code",
      "source": [
        "pip install Flask-SQLAlchemy\n",
        "from flask import Flask\n",
        "from flask_sqlalchemy import SQLAlchemy\n",
        "\n",
        "app = Flask(__name__)\n",
        "app.config['SQLALCHEMY_DATABASE_URI'] = 'sqlite:///example.db'\n",
        "db = SQLAlchemy(app)\n",
        "\n",
        "class User(db.Model):\n",
        "    id = db.Column(db.Integer, primary_key=True)\n",
        "    username = db.Column(db.String(80), unique=True, nullable=False)\n",
        "\n",
        "@app.route('/')\n",
        "def index():\n",
        "    users = User.query.all()\n",
        "    return '<br>'.join(user.username for user in users)\n",
        "\n",
        "if __name__ == '__main__':\n",
        "    db.create_all()  # Creates database tables\n",
        "    app.run(debug=True)\n"
      ],
      "metadata": {
        "id": "ERU12qZP-6ty"
      },
      "execution_count": null,
      "outputs": []
    },
    {
      "cell_type": "markdown",
      "source": [
        "44. Creating a RESTful API Endpoint Returning JSON\n"
      ],
      "metadata": {
        "id": "CCL0AE7a-_o2"
      }
    },
    {
      "cell_type": "code",
      "source": [
        "from flask import Flask, jsonify\n",
        "\n",
        "app = Flask(__name__)\n",
        "\n",
        "@app.route('/api/data')\n",
        "def get_data():\n",
        "    data = {'key': 'value', 'another_key': 'another_value'}\n",
        "    return jsonify(data)\n",
        "\n",
        "if __name__ == '__main__':\n",
        "    app.run(debug=True)\n"
      ],
      "metadata": {
        "colab": {
          "base_uri": "https://localhost:8080/"
        },
        "id": "gqrkg_nt_FRM",
        "outputId": "8c5ce2ca-6d7b-4b78-aef3-b1e2c8783c5a"
      },
      "execution_count": 1,
      "outputs": [
        {
          "output_type": "stream",
          "name": "stdout",
          "text": [
            " * Serving Flask app '__main__'\n",
            " * Debug mode: on\n"
          ]
        },
        {
          "output_type": "stream",
          "name": "stderr",
          "text": [
            "INFO:werkzeug:\u001b[31m\u001b[1mWARNING: This is a development server. Do not use it in a production deployment. Use a production WSGI server instead.\u001b[0m\n",
            " * Running on http://127.0.0.1:5000\n",
            "INFO:werkzeug:\u001b[33mPress CTRL+C to quit\u001b[0m\n",
            "INFO:werkzeug: * Restarting with stat\n"
          ]
        }
      ]
    },
    {
      "cell_type": "code",
      "source": [
        "#46. File Uploads in Flask\n",
        "from flask import Flask, request, redirect, url_for\n",
        "\n",
        "app = Flask(__name__)\n",
        "app.config['UPLOAD_FOLDER'] = 'uploads/'\n",
        "app.config['MAX_CONTENT_LENGTH'] = 16 * 1024 * 1024  # Limit upload size to 16 MB\n",
        "\n",
        "@app.route('/upload', methods=['GET', 'POST'])\n",
        "def upload_file():\n",
        "    if request.method == 'POST':\n",
        "        if 'file' not in request.files:\n",
        "            return 'No file part'\n",
        "        file = request.files['file']\n",
        "        if file.filename == '':\n",
        "            return 'No selected file'\n",
        "        file.save(f'{app.config[\"UPLOAD_FOLDER\"]}/{file.filename}')\n",
        "        return 'File uploaded successfully'\n",
        "    return '''\n",
        "    <!doctype html>\n",
        "    <title>Upload new File</title>\n",
        "    <h1>Upload new File</h1>\n",
        "    <form action=\"\" method=post enctype=multipart/form-data>\n",
        "      <input type=file name=file>\n",
        "      <input type=submit value=Upload>\n",
        "    </form>\n",
        "    '''\n",
        "\n",
        "if __name__ == '__main__':\n",
        "    app.run(debug=True)\n"
      ],
      "metadata": {
        "colab": {
          "base_uri": "https://localhost:8080/"
        },
        "id": "j0F5EJnO_In6",
        "outputId": "2bff02ba-7f87-4854-b963-96555e2e84bf"
      },
      "execution_count": null,
      "outputs": [
        {
          "metadata": {
            "tags": null
          },
          "name": "stdout",
          "output_type": "stream",
          "text": [
            " * Serving Flask app '__main__'\n",
            " * Debug mode: on\n"
          ]
        },
        {
          "metadata": {
            "tags": null
          },
          "name": "stderr",
          "output_type": "stream",
          "text": [
            "INFO:werkzeug:\u001b[31m\u001b[1mWARNING: This is a development server. Do not use it in a production deployment. Use a production WSGI server instead.\u001b[0m\n",
            " * Running on http://127.0.0.1:5000\n",
            "INFO:werkzeug:\u001b[33mPress CTRL+C to quit\u001b[0m\n",
            "INFO:werkzeug: * Restarting with stat\n"
          ]
        }
      ]
    },
    {
      "cell_type": "markdown",
      "source": [
        "47. Creating and Using Flask Blueprints\n"
      ],
      "metadata": {
        "id": "Z8_0O2-p_zgd"
      }
    },
    {
      "cell_type": "code",
      "source": [
        "# my_blueprint.py\n",
        "from flask import Blueprint, render_template\n",
        "\n",
        "bp = Blueprint('my_blueprint', __name__, url_prefix='/blueprint')\n",
        "\n",
        "@bp.route('/')\n",
        "def index():\n",
        "    return 'This is the Blueprint Index Page'\n",
        "from flask import Flask\n",
        "from my_blueprint import bp\n",
        "\n",
        "app = Flask(__name__)\n",
        "app.register_blueprint(bp)\n",
        "\n",
        "@app.route('/')\n",
        "def home():\n",
        "    return 'Home Page'\n",
        "\n",
        "if __name__ == '__main__':\n",
        "    app.run(debug=True)\n"
      ],
      "metadata": {
        "id": "LmjL2dqI_3W0"
      },
      "execution_count": null,
      "outputs": []
    },
    {
      "cell_type": "markdown",
      "source": [
        "48. Deploying a Flask App with Gunicorn and Nginx\n"
      ],
      "metadata": {
        "id": "3lEZGcvC_-AU"
      }
    },
    {
      "cell_type": "code",
      "source": [
        "pip install gunicorn\n"
      ],
      "metadata": {
        "id": "YOUz-0e0__pQ"
      },
      "execution_count": null,
      "outputs": []
    },
    {
      "cell_type": "code",
      "source": [
        "gunicorn -w 4 app:app\n"
      ],
      "metadata": {
        "id": "nJ_DbubiAGUM"
      },
      "execution_count": null,
      "outputs": []
    }
  ]
}